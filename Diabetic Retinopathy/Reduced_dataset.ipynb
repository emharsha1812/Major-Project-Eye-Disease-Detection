{
 "cells": [
  {
   "cell_type": "code",
   "execution_count": null,
   "id": "ca3090e7",
   "metadata": {},
   "outputs": [],
   "source": []
  },
  {
   "cell_type": "code",
   "execution_count": 6,
   "id": "cac204ed",
   "metadata": {},
   "outputs": [],
   "source": [
    "import os\n",
    "import shutil\n",
    "import random\n",
    "\n",
    "\n"
   ]
  },
  {
   "cell_type": "markdown",
   "id": "5d62343b",
   "metadata": {},
   "source": [
    "### Reducing Dataset for Train folder"
   ]
  },
  {
   "cell_type": "code",
   "execution_count": 7,
   "id": "dd1973e5",
   "metadata": {},
   "outputs": [],
   "source": [
    "#Defining the paths to the original dataset and the destination folder for the reduced_dataset\n",
    "original_dataset_path='data/train'\n",
    "reduced_dataset_path='reduceddata/train'"
   ]
  },
  {
   "cell_type": "code",
   "execution_count": 8,
   "id": "bb760524",
   "metadata": {},
   "outputs": [],
   "source": [
    "class_folders=os.listdir(original_dataset_path)"
   ]
  },
  {
   "cell_type": "code",
   "execution_count": 9,
   "id": "5184e6fc",
   "metadata": {},
   "outputs": [],
   "source": [
    "percentage_to_keep=35\n",
    "#Percentage of data to keep"
   ]
  },
  {
   "cell_type": "code",
   "execution_count": 10,
   "id": "51afc724",
   "metadata": {},
   "outputs": [],
   "source": [
    "#Iterating through each class folder\n",
    "for class_folder in class_folders:\n",
    "    class_path=os.path.join(original_dataset_path,class_folder)\n",
    "    reduced_class_path=os.path.join(reduced_dataset_path,class_folder)\n",
    "    \n",
    "    #Create the corresponding class folder in  the reduced dataset\n",
    "    os.makedirs(reduced_class_path,exist_ok=True)\n",
    "    \n",
    "    #Listing all image files in the class folder\n",
    "    image_files=os.listdir(class_path)\n",
    "    \n",
    "    #Calculating the number of images to keep based on the percentage\n",
    "    num_to_keep=int(len(image_files)*(percentage_to_keep/100.00))\n",
    "    \n",
    "    #Randomly shuffle the list of image files\n",
    "    random.shuffle(image_files)\n",
    "    \n",
    "    #Copy thr selected number of images to the reduced dataset folder\n",
    "    \n",
    "    for i in range(num_to_keep):\n",
    "        src_image_path=os.path.join(class_path,image_files[i])\n",
    "        dest_image_path=os.path.join(reduced_class_path,image_files[i])\n",
    "        shutil.copy(src_image_path,dest_image_path)\n",
    "\n",
    "#The reduced dataset is created now"
   ]
  },
  {
   "cell_type": "markdown",
   "id": "9d1a604b",
   "metadata": {},
   "source": [
    "## Reducing dataset for valid folder"
   ]
  },
  {
   "cell_type": "code",
   "execution_count": 11,
   "id": "89e49bb7",
   "metadata": {},
   "outputs": [],
   "source": [
    "#Defining the paths to the original dataset and the destination folder for the reduced_dataset\n",
    "original_dataset_path='data/valid'\n",
    "reduced_dataset_path='reduceddata/valid'"
   ]
  },
  {
   "cell_type": "code",
   "execution_count": 12,
   "id": "efd8efff",
   "metadata": {},
   "outputs": [],
   "source": [
    "class_folders=os.listdir(original_dataset_path)"
   ]
  },
  {
   "cell_type": "code",
   "execution_count": 13,
   "id": "7c93b8e6",
   "metadata": {},
   "outputs": [],
   "source": [
    "percentage_to_keep=35\n",
    "#Percentage of data to keep"
   ]
  },
  {
   "cell_type": "code",
   "execution_count": 14,
   "id": "9977ccd5",
   "metadata": {},
   "outputs": [],
   "source": [
    "#Iterating through each class folder\n",
    "for class_folder in class_folders:\n",
    "    class_path=os.path.join(original_dataset_path,class_folder)\n",
    "    reduced_class_path=os.path.join(reduced_dataset_path,class_folder)\n",
    "    \n",
    "    #Create the corresponding class folder in  the reduced dataset\n",
    "    os.makedirs(reduced_class_path,exist_ok=True)\n",
    "    \n",
    "    #Listing all image files in the class folder\n",
    "    image_files=os.listdir(class_path)\n",
    "    \n",
    "    #Calculating the number of images to keep based on the percentage\n",
    "    num_to_keep=int(len(image_files)*(percentage_to_keep/100.00))\n",
    "    \n",
    "    #Randomly shuffle the list of image files\n",
    "    random.shuffle(image_files)\n",
    "    \n",
    "    #Copy thr selected number of images to the reduced dataset folder\n",
    "    \n",
    "    for i in range(num_to_keep):\n",
    "        src_image_path=os.path.join(class_path,image_files[i])\n",
    "        dest_image_path=os.path.join(reduced_class_path,image_files[i])\n",
    "        shutil.copy(src_image_path,dest_image_path)\n",
    "\n",
    "#The reduced dataset is created now"
   ]
  },
  {
   "cell_type": "markdown",
   "id": "7242dfe0",
   "metadata": {},
   "source": [
    "### Reducing Dataset for Test Folder"
   ]
  },
  {
   "cell_type": "code",
   "execution_count": 15,
   "id": "ca0e7cc3",
   "metadata": {},
   "outputs": [],
   "source": [
    "#Defining the paths to the original dataset and the destination folder for the reduced_dataset\n",
    "original_dataset_path='data/test'\n",
    "reduced_dataset_path='reduceddata/test'"
   ]
  },
  {
   "cell_type": "code",
   "execution_count": 16,
   "id": "9f132da8",
   "metadata": {},
   "outputs": [],
   "source": [
    "class_folders=os.listdir(original_dataset_path)"
   ]
  },
  {
   "cell_type": "code",
   "execution_count": 17,
   "id": "ff5fe9ef",
   "metadata": {},
   "outputs": [],
   "source": [
    "percentage_to_keep=35\n",
    "#Percentage of data to keep"
   ]
  },
  {
   "cell_type": "code",
   "execution_count": 18,
   "id": "6604c3a8",
   "metadata": {},
   "outputs": [],
   "source": [
    "#Iterating through each class folder\n",
    "for class_folder in class_folders:\n",
    "    class_path=os.path.join(original_dataset_path,class_folder)\n",
    "    reduced_class_path=os.path.join(reduced_dataset_path,class_folder)\n",
    "    \n",
    "    #Create the corresponding class folder in  the reduced dataset\n",
    "    os.makedirs(reduced_class_path,exist_ok=True)\n",
    "    \n",
    "    #Listing all image files in the class folder\n",
    "    image_files=os.listdir(class_path)\n",
    "    \n",
    "    #Calculating the number of images to keep based on the percentage\n",
    "    num_to_keep=int(len(image_files)*(percentage_to_keep/100.00))\n",
    "    \n",
    "    #Randomly shuffle the list of image files\n",
    "    random.shuffle(image_files)\n",
    "    \n",
    "    #Copy thr selected number of images to the reduced dataset folder\n",
    "    \n",
    "    for i in range(num_to_keep):\n",
    "        src_image_path=os.path.join(class_path,image_files[i])\n",
    "        dest_image_path=os.path.join(reduced_class_path,image_files[i])\n",
    "        shutil.copy(src_image_path,dest_image_path)\n",
    "\n",
    "#The reduced dataset is created now"
   ]
  },
  {
   "cell_type": "code",
   "execution_count": null,
   "id": "07a07bcd",
   "metadata": {},
   "outputs": [],
   "source": []
  }
 ],
 "metadata": {
  "kernelspec": {
   "display_name": "Python 3.9 (tensorflow)",
   "language": "python",
   "name": "majorproject"
  },
  "language_info": {
   "codemirror_mode": {
    "name": "ipython",
    "version": 3
   },
   "file_extension": ".py",
   "mimetype": "text/x-python",
   "name": "python",
   "nbconvert_exporter": "python",
   "pygments_lexer": "ipython3",
   "version": "3.9.17"
  }
 },
 "nbformat": 4,
 "nbformat_minor": 5
}
