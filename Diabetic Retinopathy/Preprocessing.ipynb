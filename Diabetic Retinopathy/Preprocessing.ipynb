{
 "cells": [
  {
   "cell_type": "code",
   "execution_count": 36,
   "id": "1ea897ea",
   "metadata": {},
   "outputs": [],
   "source": [
    "#Import necessary libraries\n",
    "import os\n",
    "import pandas as pd\n",
    "import shutil\n",
    "from sklearn.model_selection import train_test_split\n"
   ]
  },
  {
   "cell_type": "code",
   "execution_count": 37,
   "id": "a7492d5a",
   "metadata": {},
   "outputs": [],
   "source": [
    "data=pd.read_csv('trainLabels.csv')"
   ]
  },
  {
   "cell_type": "code",
   "execution_count": 38,
   "id": "a3059c66",
   "metadata": {},
   "outputs": [],
   "source": [
    "#Split dataset\n",
    "train_data, temp_data = train_test_split(data, test_size=0.3, stratify=data['level'])\n",
    "test_data, valid_data = train_test_split(temp_data, test_size=0.5, stratify=temp_data['level'])"
   ]
  },
  {
   "cell_type": "code",
   "execution_count": 39,
   "id": "c3a382b8",
   "metadata": {},
   "outputs": [],
   "source": [
    "#Create Directories\n",
    "os.makedirs('data/train',exist_ok=True)\n",
    "os.makedirs('data/test',exist_ok=True)\n",
    "os.makedirs('data/valid',exist_ok=True)"
   ]
  },
  {
   "cell_type": "code",
   "execution_count": 40,
   "id": "77bbafd6",
   "metadata": {},
   "outputs": [],
   "source": [
    "#create subfolders for each label in train and test folders\n",
    "severity_levels=[0,1,2,3,4]"
   ]
  },
  {
   "cell_type": "code",
   "execution_count": 41,
   "id": "dc718085",
   "metadata": {},
   "outputs": [],
   "source": [
    "for level in severity_levels:\n",
    "    os.makedirs(os.path.join('data/train',str(level)),exist_ok=True)\n",
    "    os.makedirs(os.path.join('data/test',str(level)),exist_ok=True)\n",
    "    "
   ]
  },
  {
   "cell_type": "code",
   "execution_count": 44,
   "id": "cb4f4e02",
   "metadata": {},
   "outputs": [],
   "source": [
    "#Move images and label subfolders\n",
    "#For training data\n",
    "for _,row in train_data.iterrows():\n",
    "    image_filename=row['image']+'.jpeg'\n",
    "    src_path=os.path.join('./eyepacs_preprocess',image_filename)\n",
    "    dest_path=os.path.join('data/train',str(row['level']),image_filename)\n",
    "    shutil.copy(src_path,dest_path)\n",
    "    "
   ]
  },
  {
   "cell_type": "code",
   "execution_count": null,
   "id": "fe673217",
   "metadata": {},
   "outputs": [],
   "source": []
  },
  {
   "cell_type": "code",
   "execution_count": 46,
   "id": "c389ea76",
   "metadata": {},
   "outputs": [],
   "source": [
    "#Move images and label subfolders\n",
    "#For training data\n",
    "for _,row in test_data.iterrows():\n",
    "    image_filename=row['image']+'.jpeg'\n",
    "    src_path=os.path.join('./eyepacs_preprocess',image_filename)\n",
    "    dest_path=os.path.join('data/test',str(row['level']),image_filename)\n",
    "    shutil.copy(src_path,dest_path)"
   ]
  },
  {
   "cell_type": "code",
   "execution_count": 48,
   "id": "79d39a84",
   "metadata": {},
   "outputs": [],
   "source": [
    "for level in severity_levels:\n",
    "    os.makedirs(os.path.join('data/valid',str(level)),exist_ok=True)"
   ]
  },
  {
   "cell_type": "code",
   "execution_count": 49,
   "id": "09ca9f8e",
   "metadata": {},
   "outputs": [],
   "source": [
    "#Move images and label subfolders\n",
    "#For training data\n",
    "for _,row in valid_data.iterrows():\n",
    "    image_filename=row['image']+'.jpeg'\n",
    "    src_path=os.path.join('./eyepacs_preprocess',image_filename)\n",
    "    dest_path=os.path.join('data/valid',str(row['level']),image_filename)\n",
    "    shutil.copy(src_path,dest_path)\n",
    "    "
   ]
  },
  {
   "cell_type": "code",
   "execution_count": 50,
   "id": "8e5c8dab",
   "metadata": {},
   "outputs": [
    {
     "data": {
      "text/plain": [
       "level\n",
       "0    25802\n",
       "2     5288\n",
       "1     2438\n",
       "3      872\n",
       "4      708\n",
       "Name: count, dtype: int64"
      ]
     },
     "execution_count": 50,
     "metadata": {},
     "output_type": "execute_result"
    }
   ],
   "source": [
    "data.value_counts('level')"
   ]
  },
  {
   "cell_type": "code",
   "execution_count": 52,
   "id": "5a4ff3b0",
   "metadata": {},
   "outputs": [],
   "source": [
    "train_data.to_csv('data/train/train_labels.csv',index=False)\n",
    "test_data.to_csv('data/test/test_labels.csv',index=False)\n",
    "valid_data.to_csv('data/valid/valid_labels.csv',index=False)"
   ]
  },
  {
   "cell_type": "code",
   "execution_count": null,
   "id": "c0bbbab3",
   "metadata": {},
   "outputs": [],
   "source": []
  }
 ],
 "metadata": {
  "kernelspec": {
   "display_name": "Python 3.9 (tensorflow)",
   "language": "python",
   "name": "majorproject"
  },
  "language_info": {
   "codemirror_mode": {
    "name": "ipython",
    "version": 3
   },
   "file_extension": ".py",
   "mimetype": "text/x-python",
   "name": "python",
   "nbconvert_exporter": "python",
   "pygments_lexer": "ipython3",
   "version": "3.9.17"
  }
 },
 "nbformat": 4,
 "nbformat_minor": 5
}
